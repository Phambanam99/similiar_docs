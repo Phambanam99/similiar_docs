{
 "cells": [
  {
   "cell_type": "markdown",
   "metadata": {},
   "source": [
    "source\n",
    "https://www-llamaindex-ai.translate.goog/blog/boosting-rag-picking-the-best-embedding-reranker-models-42d079022e83?_x_tr_sl=auto&_x_tr_tl=vi&_x_tr_hl=vi&_x_tr_hist=true\n"
   ]
  },
  {
   "cell_type": "code",
   "execution_count": 1,
   "metadata": {},
   "outputs": [
    {
     "name": "stdout",
     "output_type": "stream",
     "text": [
      "[Document(metadata={'source': './data/env_artical_1.txt'}, page_content=\"Article 1: Tackling Environmental Challenges in the 21st Century\\nThe environment faces numerous challenges today, many of which have escalated due to human activities. The primary threats include climate change, deforestation, pollution, and biodiversity loss. These issues have complex and far-reaching consequences for the planet’s health and humanity's future.\\n\\nClimate Change is perhaps the most pressing issue. Global temperatures are rising due to the excessive emission of greenhouse gases from industrial activities, transportation, and agriculture. This warming leads to extreme weather patterns, sea-level rise, and the melting of polar ice caps. If unchecked, climate change could result in severe disruptions to food and water resources, increased natural disasters, and the displacement of millions of people.\\n\\nDeforestation is another critical challenge, driven by the demand for agricultural land, timber, and urban expansion. Forests play a vital role in absorbing carbon dioxide and supporting biodiversity. However, large-scale logging and land clearing not only reduce the Earth's capacity to regulate its climate but also threaten countless species with extinction.\\n\\nPollution, particularly plastic and air pollution, continues to degrade the environment. Oceans are choking with millions of tons of plastic waste, harming marine life and contaminating the food chain. Similarly, air pollution in urban areas causes severe health issues for humans, from respiratory diseases to premature deaths.\\n\\nBiodiversity loss poses long-term risks. Ecosystems depend on a delicate balance of species, and the extinction of key species can lead to the collapse of entire ecosystems. The loss of biodiversity also diminishes the natural resources that humans rely on for food, medicine, and clean water.\\n\\nAddressing these environmental challenges requires a concerted global effort. Governments, businesses, and individuals must work together to reduce carbon emissions, protect natural habitats, and promote sustainable living. The future of our planet depends on immediate, large-scale action to reverse the damage we’ve caused and to build a more sustainable world for future generations.\"), Document(metadata={'source': './data/env_artical_2.txt'}, page_content='Article 2: Nine dead in Taiwan hospital blaze: fire agency\\nThe blaze in Pingtung County was reported at around 7:40 am, and was put out shortly after 1 pm, according to an online post by the island\\'s fire agency.\\n\\nEight victims were confirmed dead after being taken away for treatment, and another was later found dead at the scene, the agency said.\\n\\nThe fire broke out the same day that Typhoon Krathon made landfall in Taiwan\\'s south, and the Pingtung County government said strong winds and heavy rains in the area made rescue operations \"more difficult\".\\n\\nOne image released by the county government showed a glowing red and orange fireball surrounded by billowing smoke, with what appeared to be a jet of water aimed at the blaze.\\n\\nAnother showed fire engines and firefighters in protective gear responding at the scene.\\n\\nThe local government said a probe had been launched into the cause of the blaze, and that firefighters continued to conduct search and rescue operations.\\n\\nIn October 2021 an inferno in Kaohsiung raged through multiple floors of a dilapidated 13-storey apartment block for hours, killing 46 people and injuring 41.\\n\\nAuthorities had said the blaze started when a woman left unextinguished incense ashes on a sofa before leaving the building. She was indicted on murder and arson charges, but ultimately escaped the death penalty.\\n\\nTyphoon Krathon, meanwhile, has forced schools and offices to shut for a second day, and its effects have so far left two dead and more than 100 injured.\\n\\nThe typhoon was packing sustained wind speeds of 126 kilometres (78 miles) per hour and gusts of up to 162 kph just before reaching the southern seaport city of Kaohsiung, according to the Central Weather Administration (CWA).\\n\\nAuthorities said Wednesday that the typhoon was expected to weaken rapidly after landing, but residents of Kaohsiung were urged to take shelter.'), Document(metadata={'source': './data/env_artical_3.txt'}, page_content='Article 3: Protecting the Environment from Pollution\\n \\nPollution has emerged as one of the most urgent challenges facing our planet today. It threatens the air we breathe, the water we consume, and the soil that sustains our crops. Addressing this issue is not just an environmental concern; it is vital for the health and well-being of current and future generations.\\n\\nTo combat pollution effectively, we can adopt several strategies. First and foremost, reducing waste is essential. By embracing practices like recycling, composting, and minimizing single-use plastics, we can significantly lessen the amount of waste we generate. This, in turn, reduces the pressure on landfills and mitigates pollution.\\n\\nAnother important approach is promoting clean energy. Transitioning from fossil fuels to renewable energy sources, such as solar, wind, and hydroelectric power, can drastically reduce air pollution. Investing in these technologies not only helps decrease greenhouse gas emissions but also contributes to cleaner air. Governments and individuals alike can play a role by advocating for policies that support clean energy.\\n\\nEnhancing public transportation is also a key strategy. By encouraging the use of buses, trains, biking, and walking, we can decrease the number of vehicles on the road. This reduction leads to lower emissions and improved air quality. Governments should invest in efficient public transit systems and create bike lanes to facilitate this transition.\\n\\nFurthermore, implementing strict regulations is crucial. Governments must enforce limits on industrial emissions and promote eco-friendly practices. By penalizing polluters, we can drive significant improvements in both air and water quality.\\n\\nEducation and awareness are equally important in the fight against pollution. Public campaigns can inform individuals about the sources and impacts of pollution, as well as ways to mitigate it. By empowering communities with knowledge, we can foster a culture of environmental responsibility.\\n\\nFinally, protecting natural habitats is vital for maintaining a healthy environment. Forests, wetlands, and other ecosystems act as natural filters, absorbing pollutants and providing clean air and water. Conservation efforts in these areas can significantly reduce the negative impacts of pollution.\\n\\nIn conclusion, protecting the environment from pollution requires a concerted effort from all sectors of society. By reducing waste, promoting clean energy, enhancing public transportation, enforcing regulations, raising awareness, and protecting natural habitats, we can make substantial progress toward a cleaner and healthier planet. It is our responsibility to act now for the sake of our environment and future generations.')]\n",
      "Successfully loaded 3 documents.\n"
     ]
    }
   ],
   "source": [
    "import os\n",
    "from langchain.document_loaders import TextLoader\n",
    "from concurrent.futures import ThreadPoolExecutor\n",
    "\n",
    "def load_multiple_text_files(directory):\n",
    "\n",
    "    def load_file(file_path):\n",
    "        loader = TextLoader(file_path)\n",
    "        return loader.load() \n",
    "    documents = []\n",
    "    txt_files = [f for f in os.listdir(directory) if f.endswith('.txt')]\n",
    "    \n",
    "    with ThreadPoolExecutor() as executor:\n",
    "        results = list(executor.map(load_file, [os.path.join(directory, f) for f in txt_files]))\n",
    "    for result in results:\n",
    "        documents.extend(result)  \n",
    "    print(documents)\n",
    "    return documents\n",
    "\n",
    "directory_path = \"./data\" \n",
    "loaded_documents = load_multiple_text_files(directory_path)\n",
    "\n",
    "print(f\"Successfully loaded {len(loaded_documents)} documents.\")\n",
    "\n"
   ]
  },
  {
   "cell_type": "code",
   "execution_count": null,
   "metadata": {},
   "outputs": [],
   "source": [
    "# import os\n",
    "# from langchain.document_loaders import TextLoader\n",
    "# from datetime import datetime\n",
    "\n",
    "# class EnhancedTextLoader(TextLoader):\n",
    "#     def load_with_metadata(self):\n",
    "#         # Load the text content\n",
    "#         text_content = self.load()\n",
    "#         # Extract metadata\n",
    "#         metadata = {\n",
    "#             'file_name': os.path.basename(self.file_path),\n",
    "#             'file_size': os.path.getsize(self.file_path),\n",
    "#             'modified_time': datetime.fromtimestamp(os.path.getmtime(self.file_path)).isoformat(),\n",
    "#         }\n",
    "#         text_content[0].metadata = metadata\n",
    "#         print(text_content[0].metadata)\n",
    "#         return text_content\n",
    "\n",
    "# def load_multiple_text_files(directory):\n",
    "#     documents = []\n",
    "#     txt_files = [f for f in os.listdir(directory) if f.endswith('.txt')]\n",
    "    \n",
    "#     for file_name in txt_files:\n",
    "#         loader = EnhancedTextLoader(os.path.join(directory, file_name))\n",
    "#         doc_with_metadata = loader.load_with_metadata()\n",
    "#         documents.append(doc_with_metadata)\n",
    "#     print(documents)\n",
    "#     return documents\n",
    "# directory_path = \"./data\" \n",
    "# loaded_documents = load_multiple_text_files(directory_path)\n",
    "\n",
    "# print(f\"Successfully loaded {len(loaded_documents)} documents.\")\n"
   ]
  },
  {
   "cell_type": "code",
   "execution_count": 2,
   "metadata": {},
   "outputs": [
    {
     "data": {
      "text/plain": [
       "3"
      ]
     },
     "execution_count": 2,
     "metadata": {},
     "output_type": "execute_result"
    }
   ],
   "source": [
    "len(loaded_documents)"
   ]
  },
  {
   "cell_type": "code",
   "execution_count": 3,
   "metadata": {},
   "outputs": [
    {
     "name": "stderr",
     "output_type": "stream",
     "text": [
      "/tmp/ipykernel_714715/2957072739.py:3: LangChainDeprecationWarning: The class `HuggingFaceEmbeddings` was deprecated in LangChain 0.2.2 and will be removed in 1.0. An updated version of the class exists in the :class:`~langchain-huggingface package and should be used instead. To use it run `pip install -U :class:`~langchain-huggingface` and import as `from :class:`~langchain_huggingface import HuggingFaceEmbeddings``.\n",
      "  embeddings = HuggingFaceEmbeddings(model_name=MODEL_EMBEDDING)\n",
      "/mnt/data/timkiemvanban/RAG_step-by-step/RAG_opensource/.venv/lib/python3.12/site-packages/sentence_transformers/cross_encoder/CrossEncoder.py:13: TqdmWarning: IProgress not found. Please update jupyter and ipywidgets. See https://ipywidgets.readthedocs.io/en/stable/user_install.html\n",
      "  from tqdm.autonotebook import tqdm, trange\n"
     ]
    }
   ],
   "source": [
    "MODEL_EMBEDDING = \"thenlper/gte-large\"\n",
    "from langchain.embeddings import HuggingFaceEmbeddings\n",
    "embeddings = HuggingFaceEmbeddings(model_name=MODEL_EMBEDDING)"
   ]
  },
  {
   "cell_type": "code",
   "execution_count": 13,
   "metadata": {},
   "outputs": [],
   "source": [
    "from langchain_qdrant import QdrantVectorStore\n",
    "QDRANT_URL = \"http://localhost:6333\"\n",
    "# qdrant = QdrantVectorStore.from_documents(\n",
    "#     loaded_documents,\n",
    "#     embeddings,\n",
    "#     url=QDRANT_URL,\n",
    "#     prefer_grpc=False,\n",
    "#     collection_name=\"articles\",\n",
    "# )\n",
    "qdrant = QdrantVectorStore.from_existing_collection(\n",
    "    embedding=embeddings,\n",
    "    collection_name=\"articles\",\n",
    "    prefer_grpc=False,\n",
    "    url=QDRANT_URL,\n",
    ")\n"
   ]
  },
  {
   "cell_type": "code",
   "execution_count": null,
   "metadata": {},
   "outputs": [],
   "source": [
    "# from langchain.vectorstores import Qdrant\n",
    "# from qdrant_client import QdrantClient\n",
    "# client = QdrantClient(\n",
    "#     url=QDRANT_URL, prefer_grpc=False\n",
    "#     )\n",
    "# db = Qdrant(client=client,\n",
    "#         embeddings=embeddings,\n",
    "#         collection_name=\"articles\")\n"
   ]
  },
  {
   "cell_type": "code",
   "execution_count": 14,
   "metadata": {},
   "outputs": [
    {
     "name": "stdout",
     "output_type": "stream",
     "text": [
      "cuda\n"
     ]
    }
   ],
   "source": [
    "from transformers import AutoTokenizer, AutoModelForSequenceClassification\n",
    "from optimum.bettertransformer import BetterTransformer\n",
    "import torch\n",
    "device = torch.device(\"cuda\") if torch.cuda.is_available() else torch.device(\"cpu\")\n",
    "print(device)\n",
    "# model_rerank = AutoModelForSequenceClassification.from_pretrained('amberoad/bert-multilingual-passage-reranking-msmarco').to(device)\n",
    "# model_rerank = BetterTransformer.transform(model_rerank)\n",
    "# tokenizer_rerank = AutoTokenizer.from_pretrained('amberoad/bert-multilingual-passage-reranking-msmarco')\n",
    "tokenizer_rerank = AutoTokenizer.from_pretrained(\"fluid-ai/bert-multilingual-passage-reranking-msmarco\")\n",
    "model_rerank = AutoModelForSequenceClassification.from_pretrained(\"fluid-ai/bert-multilingual-passage-reranking-msmarco\").to(device)\n",
    "# model_rerank = BetterTransformer.transform(model_rerank)\n",
    "# Load model directly\n",
    "# tokenizer_rerank = AutoTokenizer.from_pretrained(\"BAAI/bge-reranker-large\")\n",
    "# model_rerank = AutoModelForSequenceClassification.from_pretrained(\"BAAI/bge-reranker-large\").to(device)"
   ]
  },
  {
   "cell_type": "code",
   "execution_count": 15,
   "metadata": {},
   "outputs": [],
   "source": [
    "def rerank_resultdb(query):\n",
    "    query = query.replace('\\n', ' ')\n",
    "    vectorstore = qdrant.as_retriever(search_kwargs={\"k\":15})\n",
    "    docs = vectorstore.get_relevant_documents(query=query)\n",
    "    # Remove duplicates based on page_content\n",
    "    unique_documents = []\n",
    "    seen_content = set()\n",
    "    for doc in docs:\n",
    "        if doc.page_content not in seen_content:\n",
    "            seen_content.add(doc.page_content)\n",
    "            unique_documents.append(doc)\n",
    "    docs = unique_documents     \n",
    "    candidates = [doc.page_content for doc in docs]\n",
    "    \n",
    "    queries = [query]*len(candidates)\n",
    "    features = tokenizer_rerank(queries, candidates,  padding='longest',max_length=512, truncation=True, return_tensors=\"pt\").to(device)\n",
    "    with torch.no_grad():\n",
    "        scores = model_rerank(**features).logits\n",
    "        values, indices = torch.sum(scores, dim=1).sort()\n",
    "        print(values)\n",
    "    selected_docs = [docs[idx] for idx in indices]\n",
    "    # Filter indices based on the score range\n",
    "    filtered_indices = [idx for idx, value in zip(indices, values) if -0.5 <= value.item() <= 0.5]\n",
    "    print(filtered_indices)\n",
    "    # Select documents based on filtered indices\n",
    "    selected_docs = [docs[idx] for idx in filtered_indices]\n",
    "    results = [f\"{doc.page_content} source: {doc.metadata}\" for doc in selected_docs]\n",
    "    return results"
   ]
  },
  {
   "cell_type": "markdown",
   "metadata": {},
   "source": []
  },
  {
   "cell_type": "code",
   "execution_count": 16,
   "metadata": {},
   "outputs": [
    {
     "name": "stdout",
     "output_type": "stream",
     "text": [
      "tensor([-0.2158, -0.1180,  1.0154], device='cuda:0')\n",
      "[tensor(0, device='cuda:0'), tensor(1, device='cuda:0')]\n"
     ]
    },
    {
     "name": "stderr",
     "output_type": "stream",
     "text": [
      "/tmp/ipykernel_714715/3223288284.py:4: LangChainDeprecationWarning: The method `BaseRetriever.get_relevant_documents` was deprecated in langchain-core 0.1.46 and will be removed in 1.0. Use :meth:`~invoke` instead.\n",
      "  docs = vectorstore.get_relevant_documents(query=query)\n"
     ]
    },
    {
     "data": {
      "text/plain": [
       "[\"Article 1: Tackling Environmental Challenges in the 21st Century\\nThe environment faces numerous challenges today, many of which have escalated due to human activities. The primary threats include climate change, deforestation, pollution, and biodiversity loss. These issues have complex and far-reaching consequences for the planet’s health and humanity's future.\\n\\nClimate Change is perhaps the most pressing issue. Global temperatures are rising due to the excessive emission of greenhouse gases from industrial activities, transportation, and agriculture. This warming leads to extreme weather patterns, sea-level rise, and the melting of polar ice caps. If unchecked, climate change could result in severe disruptions to food and water resources, increased natural disasters, and the displacement of millions of people.\\n\\nDeforestation is another critical challenge, driven by the demand for agricultural land, timber, and urban expansion. Forests play a vital role in absorbing carbon dioxide and supporting biodiversity. However, large-scale logging and land clearing not only reduce the Earth's capacity to regulate its climate but also threaten countless species with extinction.\\n\\nPollution, particularly plastic and air pollution, continues to degrade the environment. Oceans are choking with millions of tons of plastic waste, harming marine life and contaminating the food chain. Similarly, air pollution in urban areas causes severe health issues for humans, from respiratory diseases to premature deaths.\\n\\nBiodiversity loss poses long-term risks. Ecosystems depend on a delicate balance of species, and the extinction of key species can lead to the collapse of entire ecosystems. The loss of biodiversity also diminishes the natural resources that humans rely on for food, medicine, and clean water.\\n\\nAddressing these environmental challenges requires a concerted global effort. Governments, businesses, and individuals must work together to reduce carbon emissions, protect natural habitats, and promote sustainable living. The future of our planet depends on immediate, large-scale action to reverse the damage we’ve caused and to build a more sustainable world for future generations. source: {'source': './data/env_artical_1.txt', '_id': 'f8d11121-56e1-453c-b78f-581750065cf7', '_collection_name': 'articles'}\",\n",
       " \"Article 3: Protecting the Environment from Pollution\\n \\nPollution has emerged as one of the most urgent challenges facing our planet today. It threatens the air we breathe, the water we consume, and the soil that sustains our crops. Addressing this issue is not just an environmental concern; it is vital for the health and well-being of current and future generations.\\n\\nTo combat pollution effectively, we can adopt several strategies. First and foremost, reducing waste is essential. By embracing practices like recycling, composting, and minimizing single-use plastics, we can significantly lessen the amount of waste we generate. This, in turn, reduces the pressure on landfills and mitigates pollution.\\n\\nAnother important approach is promoting clean energy. Transitioning from fossil fuels to renewable energy sources, such as solar, wind, and hydroelectric power, can drastically reduce air pollution. Investing in these technologies not only helps decrease greenhouse gas emissions but also contributes to cleaner air. Governments and individuals alike can play a role by advocating for policies that support clean energy.\\n\\nEnhancing public transportation is also a key strategy. By encouraging the use of buses, trains, biking, and walking, we can decrease the number of vehicles on the road. This reduction leads to lower emissions and improved air quality. Governments should invest in efficient public transit systems and create bike lanes to facilitate this transition.\\n\\nFurthermore, implementing strict regulations is crucial. Governments must enforce limits on industrial emissions and promote eco-friendly practices. By penalizing polluters, we can drive significant improvements in both air and water quality.\\n\\nEducation and awareness are equally important in the fight against pollution. Public campaigns can inform individuals about the sources and impacts of pollution, as well as ways to mitigate it. By empowering communities with knowledge, we can foster a culture of environmental responsibility.\\n\\nFinally, protecting natural habitats is vital for maintaining a healthy environment. Forests, wetlands, and other ecosystems act as natural filters, absorbing pollutants and providing clean air and water. Conservation efforts in these areas can significantly reduce the negative impacts of pollution.\\n\\nIn conclusion, protecting the environment from pollution requires a concerted effort from all sectors of society. By reducing waste, promoting clean energy, enhancing public transportation, enforcing regulations, raising awareness, and protecting natural habitats, we can make substantial progress toward a cleaner and healthier planet. It is our responsibility to act now for the sake of our environment and future generations. source: {'source': './data/env_artical_3.txt', '_id': 'b464482f-f47d-4aab-bf25-5a306ec101a5', '_collection_name': 'articles'}\"]"
      ]
     },
     "execution_count": 16,
     "metadata": {},
     "output_type": "execute_result"
    }
   ],
   "source": [
    "#query =\"Article 1: Tackling Environmental Challenges in the 21st CenturyThe environment faces numerous challenges today, many of which have escalated due to human activities. The primary threats include climate change, deforestation, pollution, and biodiversity loss. These issues have complex and far-reaching consequences for the planet’s health and humanity's future.Climate Change is perhaps the most pressing issue. Global temperatures are rising due to the excessive emission of greenhouse gases from industrial activities, transportation, and agriculture. This warming leads to extreme weather patterns, sea-level rise, and the melting of polar ice caps. If unchecked, climate change could result in severe disruptions to food and water resources, increased natural disasters, and the displacement of millions of people.Deforestation is another critical challenge, driven by the demand for agricultural land, timber, and urban expansion. Forests play a vital role in absorbing carbon dioxide and supporting biodiversity. However, large-scale logging and land clearing not only reduce the Earth's capacity to regulate its climate but also threaten countless species with extinction.Pollution, particularly plastic and air pollution, continues to degrade the environment. Oceans are choking with millions of tons of plastic waste, harming marine life and contaminating the food chain. Similarly, air pollution in urban areas causes severe health issues for humans, from respiratory diseases to premature deaths.Biodiversity loss poses long-term risks. Ecosystems depend on a delicate balance of species, and the extinction of key species can lead to the collapse of entire ecosystems. The loss of biodiversity also diminishes the natural resources that humans rely on for food, medicine, and clean water.Addressing these environmental challenges requires a concerted global effort. Governments, businesses, and individuals must work together to reduce carbon emissions, protect natural habitats, and promote sustainable living. The future of our planet depends on immediate, large-scale action to reverse the damage we’ve caused and to build a more sustainable world for future generations.\"\n",
    "#query=\"Climate change results from greenhouse gas emissions, leading to rising temperatures and extreme weather. Deforestation threatens forests' role in carbon absorption and species survival. Pollution, especially plastic and air pollution, harms ecosystems and human health. Biodiversity loss risks ecosystem stability and natural resource availability\"\n",
    "query= '''\n",
    "The environment is facing critical challenges due to human activities, including climate change, deforestation, pollution, and biodiversity loss.\n",
    "\n",
    "Climate change results from greenhouse gas emissions, leading to rising temperatures and extreme weather. Deforestation threatens forests' role in carbon absorption and species survival. Pollution, especially plastic and air pollution, harms ecosystems and human health. Biodiversity loss risks ecosystem stability and natural resource availability.\n",
    "\n",
    "Addressing these issues requires global collaboration among governments, businesses, and individuals to reduce emissions, protect habitats, and promote sustainability for a healthier future.\n",
    "'''\n",
    "q='''\n",
    "The prior month, Hurricane Lee, a major hurricane currently traveling up the Atlantic, meteorologists observed the third-fastest case of rapid intensification ever recorded. On September 7, wind speeds inside Lee more than doubled, boosting it from an 80 mph Cat 1 storm to a terrifying 165 mph Cat 5 storm.\n",
    "\n",
    "Rapid intensification only crops up in a handful of tropical cyclones each year. However, a study published last year in Nature found that, within 240 miles of coastlines, rapidly intensifying storms are now significantly more common than they were 40 years ago. Examples include Hurricane Ian in 2022 and Hurricane Michael in 2018. The latter leapt from a Category 2 storm to Category 5 the day before making landfall in the Florida panhandle. It claimed dozens of lives and caused $25 billion in damage.\n",
    "'''\n",
    "q1= '''The article discusses significant environmental challenges caused by human activities, including climate change, deforestation, pollution, and biodiversity loss. Climate change, driven by greenhouse gas emissions, leads to extreme weather and resource disruptions. Deforestation, fueled by agriculture and urban expansion, threatens ecosystems and species. Pollution, particularly plastic and air pollution, harms marine life and human health. Biodiversity loss jeopardizes ecosystems and vital resources. Addressing these issues requires global cooperation among governments, businesses, and individuals to reduce emissions, protect habitats, and promote sustainable living for a healthier planet. Immediate action is crucial for future sustainability.'''\n",
    "q2 ='''The private zoo was permitted to keep wild and rare animals for preservation. It currently holds over 3,000 wild animals of nearly 90 species, including Bengal tigers, white lions, bears, hippos, panthers, and zebras, on a total area of 23,000 square metres.\n",
    "\n",
    "Between September 6 and October 1, 20 Bengal tigers and a black panther died at the site. Investigations by local authorities concluded that the animals died from the A/H5N1 virus infection from chicken served to them for meals.\n",
    "\n",
    "My Quynh Zoo in the neighbouring Long An Province also reported the deaths of 27 tigers and three lions between early August and mid-September. Their samples also tested positive for the A/H5N1 virus, while the sources of infection have remained unclear'''\n",
    "rerank_resultdb(query=query)"
   ]
  },
  {
   "cell_type": "code",
   "execution_count": 12,
   "metadata": {},
   "outputs": [
    {
     "name": "stderr",
     "output_type": "stream",
     "text": [
      "/mnt/data/timkiemvanban/RAG_step-by-step/RAG_opensource/.venv/lib/python3.12/site-packages/transformers/configuration_utils.py:772: UserWarning: alibi is turned on, setting `learned_pos_emb` to False`\n",
      "  \n"
     ]
    },
    {
     "name": "stdout",
     "output_type": "stream",
     "text": [
      "INFO 10-08 07:48:05 llm_engine.py:226] Initializing an LLM engine (v0.6.1.dev238+ge2c6e0a82) with config: model='mosaicml/mpt-7b', speculative_config=None, tokenizer='mosaicml/mpt-7b', skip_tokenizer_init=False, tokenizer_mode=auto, revision=None, override_neuron_config=None, rope_scaling=None, rope_theta=None, tokenizer_revision=None, trust_remote_code=True, dtype=torch.bfloat16, max_seq_len=2048, download_dir=None, load_format=LoadFormat.AUTO, tensor_parallel_size=1, pipeline_parallel_size=1, disable_custom_all_reduce=False, quantization=None, enforce_eager=False, kv_cache_dtype=auto, quantization_param_path=None, device_config=cuda, decoding_config=DecodingConfig(guided_decoding_backend='outlines'), observability_config=ObservabilityConfig(otlp_traces_endpoint=None, collect_model_forward_time=False, collect_model_execute_time=False), seed=0, served_model_name=mosaicml/mpt-7b, use_v2_block_manager=False, num_scheduler_steps=1, multi_step_stream_outputs=False, enable_prefix_caching=False, use_async_output_proc=True, use_cached_outputs=False, mm_processor_kwargs=None)\n",
      "INFO 10-08 07:48:09 selector.py:217] Cannot use FlashAttention-2 backend for Volta and Turing GPUs.\n",
      "INFO 10-08 07:48:09 selector.py:116] Using XFormers backend.\n"
     ]
    },
    {
     "name": "stderr",
     "output_type": "stream",
     "text": [
      "/mnt/data/timkiemvanban/RAG_step-by-step/RAG_opensource/.venv/lib/python3.12/site-packages/xformers/ops/fmha/flash.py:211: FutureWarning: `torch.library.impl_abstract` was renamed to `torch.library.register_fake`. Please use that instead; we will remove `torch.library.impl_abstract` in a future version of PyTorch.\n",
      "  @torch.library.impl_abstract(\"xformers_flash::flash_fwd\")\n",
      "/mnt/data/timkiemvanban/RAG_step-by-step/RAG_opensource/.venv/lib/python3.12/site-packages/xformers/ops/fmha/flash.py:344: FutureWarning: `torch.library.impl_abstract` was renamed to `torch.library.register_fake`. Please use that instead; we will remove `torch.library.impl_abstract` in a future version of PyTorch.\n",
      "  @torch.library.impl_abstract(\"xformers_flash::flash_bwd\")\n"
     ]
    },
    {
     "ename": "ValidationError",
     "evalue": "1 validation error for VLLM\n  Value error, Bfloat16 is only supported on GPUs with compute capability of at least 8.0. Your Tesla P100-PCIE-16GB GPU has compute capability 6.0. You can use float16 instead by explicitly setting the`dtype` flag in CLI, for example: --dtype=half. [type=value_error, input_value={'model': 'mosaicml/mpt-7...gs': {}, 'client': None}, input_type=dict]\n    For further information visit https://errors.pydantic.dev/2.9/v/value_error",
     "output_type": "error",
     "traceback": [
      "\u001b[0;31m---------------------------------------------------------------------------\u001b[0m",
      "\u001b[0;31mValidationError\u001b[0m                           Traceback (most recent call last)",
      "Cell \u001b[0;32mIn[12], line 14\u001b[0m\n\u001b[1;32m      1\u001b[0m \u001b[38;5;28;01mfrom\u001b[39;00m \u001b[38;5;21;01mlangchain\u001b[39;00m\u001b[38;5;21;01m.\u001b[39;00m\u001b[38;5;21;01mllms\u001b[39;00m \u001b[38;5;28;01mimport\u001b[39;00m VLLM\n\u001b[1;32m      2\u001b[0m \u001b[38;5;66;03m# llm = VLLM(\u001b[39;00m\n\u001b[1;32m      3\u001b[0m \u001b[38;5;66;03m#           model=GENERATE_MODEL_NAME,\u001b[39;00m\n\u001b[1;32m      4\u001b[0m \u001b[38;5;66;03m#           trust_remote_code=True,  # mandatory for hf models\u001b[39;00m\n\u001b[0;32m   (...)\u001b[0m\n\u001b[1;32m     12\u001b[0m \u001b[38;5;66;03m#           dtype=\"half\",\u001b[39;00m\n\u001b[1;32m     13\u001b[0m \u001b[38;5;66;03m#       )\u001b[39;00m\n\u001b[0;32m---> 14\u001b[0m llm \u001b[38;5;241m=\u001b[39m \u001b[43mVLLM\u001b[49m\u001b[43m(\u001b[49m\n\u001b[1;32m     15\u001b[0m \u001b[43m    \u001b[49m\u001b[43mmodel\u001b[49m\u001b[38;5;241;43m=\u001b[39;49m\u001b[38;5;124;43m\"\u001b[39;49m\u001b[38;5;124;43mmosaicml/mpt-7b\u001b[39;49m\u001b[38;5;124;43m\"\u001b[39;49m\u001b[43m,\u001b[49m\n\u001b[1;32m     16\u001b[0m \u001b[43m    \u001b[49m\u001b[43mtrust_remote_code\u001b[49m\u001b[38;5;241;43m=\u001b[39;49m\u001b[38;5;28;43;01mTrue\u001b[39;49;00m\u001b[43m,\u001b[49m\u001b[43m  \u001b[49m\u001b[38;5;66;43;03m# mandatory for hf models\u001b[39;49;00m\n\u001b[1;32m     17\u001b[0m \u001b[43m    \u001b[49m\u001b[43mmax_new_tokens\u001b[49m\u001b[38;5;241;43m=\u001b[39;49m\u001b[38;5;241;43m128\u001b[39;49m\u001b[43m,\u001b[49m\n\u001b[1;32m     18\u001b[0m \u001b[43m    \u001b[49m\u001b[43mtop_k\u001b[49m\u001b[38;5;241;43m=\u001b[39;49m\u001b[38;5;241;43m10\u001b[39;49m\u001b[43m,\u001b[49m\n\u001b[1;32m     19\u001b[0m \u001b[43m    \u001b[49m\u001b[43mtop_p\u001b[49m\u001b[38;5;241;43m=\u001b[39;49m\u001b[38;5;241;43m0.95\u001b[39;49m\u001b[43m,\u001b[49m\n\u001b[1;32m     20\u001b[0m \u001b[43m    \u001b[49m\u001b[43mtemperature\u001b[49m\u001b[38;5;241;43m=\u001b[39;49m\u001b[38;5;241;43m0.8\u001b[39;49m\u001b[43m,\u001b[49m\n\u001b[1;32m     21\u001b[0m \u001b[43m)\u001b[49m\n\u001b[1;32m     22\u001b[0m \u001b[38;5;28mprint\u001b[39m(llm\u001b[38;5;241m.\u001b[39minvoke(\u001b[38;5;124m\"\u001b[39m\u001b[38;5;124mWhat is the capital of France ?\u001b[39m\u001b[38;5;124m\"\u001b[39m))\n",
      "File \u001b[0;32m/mnt/data/timkiemvanban/RAG_step-by-step/RAG_opensource/.venv/lib/python3.12/site-packages/langchain_core/load/serializable.py:111\u001b[0m, in \u001b[0;36mSerializable.__init__\u001b[0;34m(self, *args, **kwargs)\u001b[0m\n\u001b[1;32m    109\u001b[0m \u001b[38;5;28;01mdef\u001b[39;00m \u001b[38;5;21m__init__\u001b[39m(\u001b[38;5;28mself\u001b[39m, \u001b[38;5;241m*\u001b[39margs: Any, \u001b[38;5;241m*\u001b[39m\u001b[38;5;241m*\u001b[39mkwargs: Any) \u001b[38;5;241m-\u001b[39m\u001b[38;5;241m>\u001b[39m \u001b[38;5;28;01mNone\u001b[39;00m:\n\u001b[1;32m    110\u001b[0m \u001b[38;5;250m    \u001b[39m\u001b[38;5;124;03m\"\"\"\"\"\"\u001b[39;00m\n\u001b[0;32m--> 111\u001b[0m     \u001b[38;5;28;43msuper\u001b[39;49m\u001b[43m(\u001b[49m\u001b[43m)\u001b[49m\u001b[38;5;241;43m.\u001b[39;49m\u001b[38;5;21;43m__init__\u001b[39;49m\u001b[43m(\u001b[49m\u001b[38;5;241;43m*\u001b[39;49m\u001b[43margs\u001b[49m\u001b[43m,\u001b[49m\u001b[43m \u001b[49m\u001b[38;5;241;43m*\u001b[39;49m\u001b[38;5;241;43m*\u001b[39;49m\u001b[43mkwargs\u001b[49m\u001b[43m)\u001b[49m\n",
      "File \u001b[0;32m/mnt/data/timkiemvanban/RAG_step-by-step/RAG_opensource/.venv/lib/python3.12/site-packages/pydantic/main.py:212\u001b[0m, in \u001b[0;36mBaseModel.__init__\u001b[0;34m(self, **data)\u001b[0m\n\u001b[1;32m    210\u001b[0m \u001b[38;5;66;03m# `__tracebackhide__` tells pytest and some other tools to omit this function from tracebacks\u001b[39;00m\n\u001b[1;32m    211\u001b[0m __tracebackhide__ \u001b[38;5;241m=\u001b[39m \u001b[38;5;28;01mTrue\u001b[39;00m\n\u001b[0;32m--> 212\u001b[0m validated_self \u001b[38;5;241m=\u001b[39m \u001b[38;5;28;43mself\u001b[39;49m\u001b[38;5;241;43m.\u001b[39;49m\u001b[43m__pydantic_validator__\u001b[49m\u001b[38;5;241;43m.\u001b[39;49m\u001b[43mvalidate_python\u001b[49m\u001b[43m(\u001b[49m\u001b[43mdata\u001b[49m\u001b[43m,\u001b[49m\u001b[43m \u001b[49m\u001b[43mself_instance\u001b[49m\u001b[38;5;241;43m=\u001b[39;49m\u001b[38;5;28;43mself\u001b[39;49m\u001b[43m)\u001b[49m\n\u001b[1;32m    213\u001b[0m \u001b[38;5;28;01mif\u001b[39;00m \u001b[38;5;28mself\u001b[39m \u001b[38;5;129;01mis\u001b[39;00m \u001b[38;5;129;01mnot\u001b[39;00m validated_self:\n\u001b[1;32m    214\u001b[0m     warnings\u001b[38;5;241m.\u001b[39mwarn(\n\u001b[1;32m    215\u001b[0m         \u001b[38;5;124m'\u001b[39m\u001b[38;5;124mA custom validator is returning a value other than `self`.\u001b[39m\u001b[38;5;130;01m\\n\u001b[39;00m\u001b[38;5;124m'\u001b[39m\n\u001b[1;32m    216\u001b[0m         \u001b[38;5;124m\"\u001b[39m\u001b[38;5;124mReturning anything other than `self` from a top level model validator isn\u001b[39m\u001b[38;5;124m'\u001b[39m\u001b[38;5;124mt supported when validating via `__init__`.\u001b[39m\u001b[38;5;130;01m\\n\u001b[39;00m\u001b[38;5;124m\"\u001b[39m\n\u001b[1;32m    217\u001b[0m         \u001b[38;5;124m'\u001b[39m\u001b[38;5;124mSee the `model_validator` docs (https://docs.pydantic.dev/latest/concepts/validators/#model-validators) for more details.\u001b[39m\u001b[38;5;124m'\u001b[39m,\n\u001b[1;32m    218\u001b[0m         category\u001b[38;5;241m=\u001b[39m\u001b[38;5;28;01mNone\u001b[39;00m,\n\u001b[1;32m    219\u001b[0m     )\n",
      "\u001b[0;31mValidationError\u001b[0m: 1 validation error for VLLM\n  Value error, Bfloat16 is only supported on GPUs with compute capability of at least 8.0. Your Tesla P100-PCIE-16GB GPU has compute capability 6.0. You can use float16 instead by explicitly setting the`dtype` flag in CLI, for example: --dtype=half. [type=value_error, input_value={'model': 'mosaicml/mpt-7...gs': {}, 'client': None}, input_type=dict]\n    For further information visit https://errors.pydantic.dev/2.9/v/value_error"
     ]
    }
   ],
   "source": [
    "# from langchain.llms import VLLM\n",
    "# # llm = VLLM(\n",
    "# #           model=GENERATE_MODEL_NAME,\n",
    "# #           trust_remote_code=True,  # mandatory for hf models\n",
    "# #           max_new_tokens=max_new_tokens,\n",
    "# #             # temperature=1.0,\n",
    "# #             # top_k=50,\n",
    "# #             # top_p=0.9,\n",
    "# #           top_k=10,\n",
    "# #           top_p=0.95,\n",
    "# #           temperature=0.4,\n",
    "# #           dtype=\"half\",\n",
    "# #       )\n",
    "# llm = VLLM(\n",
    "#     model=\"mosaicml/mpt-7b\",\n",
    "#     trust_remote_code=True,  # mandatory for hf models\n",
    "#     max_new_tokens=128,\n",
    "#     top_k=10,\n",
    "#     top_p=0.95,\n",
    "#     temperature=0.8,\n",
    "# )\n",
    "# print(llm.invoke(\"What is the capital of France ?\"))"
   ]
  },
  {
   "cell_type": "code",
   "execution_count": 17,
   "metadata": {},
   "outputs": [],
   "source": [
    "from langchain_ollama import ChatOllama\n",
    "from langchain_core.prompts import ChatPromptTemplate\n",
    "from langchain.embeddings import HuggingFaceEmbeddings\n",
    "QDRANT_URL = \"http://localhost:6333\"\n",
    "class LLMServe:\n",
    "    def __init__(self) -> None:\n",
    "      self.query = None\n",
    "      self.embeddings = self.load_embeddings()\n",
    "      self.pipe = self.load_model_pipeline()\n",
    "      self.prompt = self.load_prompt_template()\n",
    "      self.rag_pipeline = None\n",
    "    def load_embeddings(self):\n",
    "      embeddings = HuggingFaceEmbeddings(model_name=MODEL_EMBEDDING)\n",
    "      return embeddings\n",
    "\n",
    "    def load_model_pipeline(self):\n",
    "      llm = ChatOllama(\n",
    "          model=\"llama3.2\",\n",
    "          top_k=10,\n",
    "          top_p=0.95,\n",
    "          temperature=0.01)\n",
    "      \n",
    "      return llm\n",
    "\n",
    "    def load_prompt_template(self):\n",
    "      prompt = ChatPromptTemplate.from_messages(\n",
    "        [\n",
    "            (\n",
    "                \"system\",\n",
    "                \"You are an AI assistant, based on the infomation I provide as follows {database} if database is none reply no database,   please give the exact information: article name, author, source if the information is not in the data i provided, please reply that this is no information\",\n",
    "            ),\n",
    "            (\"human\",\"{input}\")\n",
    "        ]\n",
    "    )\n",
    "      return prompt\n",
    "\n",
    "    def load_rag_pipeline(self,llm ,prompt,query):\n",
    "      vector_results = rerank_resultdb(query)\n",
    "      chain = prompt | llm\n",
    "      result = chain.invoke({\n",
    "          \"database\":vector_results,\n",
    "          \"input\":query\n",
    "      }).content\n",
    "      return result\n",
    "\n",
    "    def rag(self, query):\n",
    "        self.query = query\n",
    "        self.rag_pipeline = self.load_rag_pipeline(llm=self.pipe,                         \n",
    "                                      prompt=self.prompt, query= self.query)\n",
    "        return self.rag_pipeline"
   ]
  },
  {
   "cell_type": "code",
   "execution_count": 18,
   "metadata": {},
   "outputs": [],
   "source": [
    "app = LLMServe()"
   ]
  },
  {
   "cell_type": "code",
   "execution_count": 19,
   "metadata": {},
   "outputs": [
    {
     "name": "stdout",
     "output_type": "stream",
     "text": [
      "tensor([0.8975, 0.9468, 1.1050], device='cuda:0')\n",
      "[]\n",
      "Here is the information you requested:\n",
      "\n",
      "* Article Name: No specific article name provided\n",
      "* Author: No author mentioned\n",
      "* Source: Nature (study published last year)\n",
      "* Additional Information: The study found that rapidly intensifying storms are now significantly more common within 240 miles of coastlines, compared to 40 years ago.\n"
     ]
    }
   ],
   "source": [
    "q='''\n",
    "The prior month, Hurricane Lee, a major hurricane currently traveling up the Atlantic, meteorologists observed the third-fastest case of rapid intensification ever recorded. On September 7, wind speeds inside Lee more than doubled, boosting it from an 80 mph Cat 1 storm to a terrifying 165 mph Cat 5 storm.\n",
    "\n",
    "Rapid intensification only crops up in a handful of tropical cyclones each year. However, a study published last year in Nature found that, within 240 miles of coastlines, rapidly intensifying storms are now significantly more common than they were 40 years ago. Examples include Hurricane Ian in 2022 and Hurricane Michael in 2018. The latter leapt from a Category 2 storm to Category 5 the day before making landfall in the Florida panhandle. It claimed dozens of lives and caused $25 billion in damage.\n",
    "'''\n",
    "q2 ='''The private zoo was permitted to keep wild and rare animals for preservation. It currently holds over 3,000 wild animals of nearly 90 species, including Bengal tigers, white lions, bears, hippos, panthers, and zebras, on a total area of 23,000 square metres.\n",
    "\n",
    "Between September 6 and October 1, 20 Bengal tigers and a black panther died at the site. Investigations by local authorities concluded that the animals died from the A/H5N1 virus infection from chicken served to them for meals.\n",
    "\n",
    "My Quynh Zoo in the neighbouring Long An Province also reported the deaths of 27 tigers and three lions between early August and mid-September. Their samples also tested positive for the A/H5N1 virus, while the sources of infection have remained unclear'''\n",
    "data = app.rag(q)\n",
    "print(data)"
   ]
  },
  {
   "cell_type": "code",
   "execution_count": 20,
   "metadata": {},
   "outputs": [],
   "source": [
    "from fastapi.middleware.cors import CORSMiddleware\n",
    "from fastapi.responses import JSONResponse\n",
    "from fastapi.encoders import jsonable_encoder\n",
    "from fastapi import FastAPI\n",
    "from typing import Optional\n",
    "origins = [\"*\"]\n",
    "app_api = FastAPI()\n",
    "app_api.add_middleware(\n",
    "    CORSMiddleware,\n",
    "    allow_origins=origins,\n",
    "    allow_credentials=True,\n",
    "    allow_methods=[\"*\"],\n",
    "    allow_headers=[\"*\"],\n",
    ")\n",
    "\n",
    "@app_api.get(\"/\")\n",
    "def read_root():\n",
    "    return \"API RAG\"\n",
    "\n",
    "@app_api.get(\"/rag\")\n",
    "async def read_item( q: Optional[str] = None):\n",
    "    prompt = ChatPromptTemplate.from_messages(\n",
    "        [\n",
    "            (\n",
    "                \"system\",\n",
    "                \"You are a good theorist, please summarize this {input} for me.\",\n",
    "            ),\n",
    "            (\"human\", \"{input}\"),\n",
    "        ])\n",
    "    \n",
    "    if q:\n",
    "        data = app.rag(q)\n",
    "        print(data)\n",
    "        res = {\n",
    "            \"result\" : data,\n",
    "            \"source_documents\":\"NO\"\n",
    "        }\n",
    "        return JSONResponse(content=jsonable_encoder(res))\n",
    "    return None\n"
   ]
  },
  {
   "cell_type": "code",
   "execution_count": 21,
   "metadata": {},
   "outputs": [
    {
     "name": "stderr",
     "output_type": "stream",
     "text": [
      "INFO:     Started server process [714715]\n",
      "INFO:     Waiting for application startup.\n",
      "INFO:     Application startup complete.\n",
      "INFO:     Uvicorn running on http://127.0.0.1:8001 (Press CTRL+C to quit)\n"
     ]
    }
   ],
   "source": [
    "import nest_asyncio\n",
    "import uvicorn\n",
    "nest_asyncio.apply()\n",
    "uvicorn.run(app_api, port=8001)"
   ]
  }
 ],
 "metadata": {
  "kernelspec": {
   "display_name": ".venv",
   "language": "python",
   "name": "python3"
  },
  "language_info": {
   "codemirror_mode": {
    "name": "ipython",
    "version": 3
   },
   "file_extension": ".py",
   "mimetype": "text/x-python",
   "name": "python",
   "nbconvert_exporter": "python",
   "pygments_lexer": "ipython3",
   "version": "3.12.3"
  }
 },
 "nbformat": 4,
 "nbformat_minor": 2
}
